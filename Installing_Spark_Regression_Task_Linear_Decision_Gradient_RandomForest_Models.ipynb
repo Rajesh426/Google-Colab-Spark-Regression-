{
  "nbformat": 4,
  "nbformat_minor": 0,
  "metadata": {
    "colab": {
      "name": "Installing_Spark_Regression_Task_Linear_Decision_Gradient_RandomForest_Models.ipynb",
      "provenance": [],
      "collapsed_sections": []
    },
    "kernelspec": {
      "name": "python3",
      "display_name": "Python 3"
    },
    "accelerator": "GPU"
  },
  "cells": [
    {
      "cell_type": "markdown",
      "metadata": {
        "id": "uOeM61EQ2XQM",
        "colab_type": "text"
      },
      "source": [
        "# *Program is to estimate the petrol consumption*"
      ]
    },
    {
      "cell_type": "markdown",
      "metadata": {
        "id": "8c33p5m82pws",
        "colab_type": "text"
      },
      "source": [
        "Petrol_tax, Average_income, Paved_Highways,Population_Driver_licence(%) are the features \n",
        "\n",
        "and \n",
        "\n",
        "Petrol_Consumption is the Target or Label "
      ]
    },
    {
      "cell_type": "markdown",
      "metadata": {
        "id": "j6y1tQ1y4cEC",
        "colab_type": "text"
      },
      "source": [
        "Steps required for installation spark in google colab"
      ]
    },
    {
      "cell_type": "code",
      "metadata": {
        "id": "OqlI8YujIx6v",
        "colab_type": "code",
        "colab": {}
      },
      "source": [
        "!apt-get install openjdk-8-jdk-headless -qq > /dev/null\n",
        "!wget -q http://www-eu.apache.org/dist/spark/spark-2.4.4/spark-2.4.4-bin-hadoop2.7.tgz\n",
        "!tar xf spark-2.4.4-bin-hadoop2.7.tgz\n",
        "!pip install -q findspark"
      ],
      "execution_count": 0,
      "outputs": []
    },
    {
      "cell_type": "code",
      "metadata": {
        "id": "o4aPKSGjJeTn",
        "colab_type": "code",
        "colab": {}
      },
      "source": [
        "import os\n",
        "os.environ[\"JAVA_HOME\"] = \"/usr/lib/jvm/java-8-openjdk-amd64\"\n",
        "os.environ[\"SPARK_HOME\"] = \"/content/spark-2.4.4-bin-hadoop2.7\""
      ],
      "execution_count": 0,
      "outputs": []
    },
    {
      "cell_type": "code",
      "metadata": {
        "id": "Vi3JP5IkJi-l",
        "colab_type": "code",
        "colab": {}
      },
      "source": [
        "import findspark\n",
        "findspark.init(\"spark-2.4.4-bin-hadoop2.7\")# SPARK_HOME\n",
        "from pyspark.sql import SparkSession\n",
        "spark = SparkSession.builder.master(\"local[*]\").getOrCreate()"
      ],
      "execution_count": 0,
      "outputs": []
    },
    {
      "cell_type": "code",
      "metadata": {
        "id": "ruTlDQDYKaQB",
        "colab_type": "code",
        "colab": {
          "base_uri": "https://localhost:8080/",
          "height": 34
        },
        "outputId": "a61689d8-ebdf-497a-d7ac-e9200f2056d4"
      },
      "source": [
        "# Reading the csv file by using spark\n",
        "\n",
        "df_spark = spark.read.csv('petrol_consumption.csv', inferSchema=True, header=True)\n",
        "print(type(df_spark))"
      ],
      "execution_count": 59,
      "outputs": [
        {
          "output_type": "stream",
          "text": [
            "<class 'pyspark.sql.dataframe.DataFrame'>\n"
          ],
          "name": "stdout"
        }
      ]
    },
    {
      "cell_type": "code",
      "metadata": {
        "id": "9gSxvtM6NRiy",
        "colab_type": "code",
        "colab": {
          "base_uri": "https://localhost:8080/",
          "height": 578
        },
        "outputId": "be036d6b-151d-4786-f33c-d070f97c2626"
      },
      "source": [
        "df_spark.printSchema() # print detail schema of data\n",
        "df_spark.show()# show top 20 rows\n",
        "# Do more operation on it."
      ],
      "execution_count": 60,
      "outputs": [
        {
          "output_type": "stream",
          "text": [
            "root\n",
            " |-- Petrol_tax: double (nullable = true)\n",
            " |-- Average_income: integer (nullable = true)\n",
            " |-- Paved_Highways: integer (nullable = true)\n",
            " |-- Population_Driver_licence(%): double (nullable = true)\n",
            " |-- Petrol_Consumption: integer (nullable = true)\n",
            "\n",
            "+----------+--------------+--------------+----------------------------+------------------+\n",
            "|Petrol_tax|Average_income|Paved_Highways|Population_Driver_licence(%)|Petrol_Consumption|\n",
            "+----------+--------------+--------------+----------------------------+------------------+\n",
            "|       9.0|          3571|          1976|                       0.525|               541|\n",
            "|       9.0|          4092|          1250|                       0.572|               524|\n",
            "|       9.0|          3865|          1586|                        0.58|               561|\n",
            "|       7.5|          4870|          2351|                       0.529|               414|\n",
            "|       8.0|          4399|           431|                       0.544|               410|\n",
            "|      10.0|          5342|          1333|                       0.571|               457|\n",
            "|       8.0|          5319|         11868|                       0.451|               344|\n",
            "|       8.0|          5126|          2138|                       0.553|               467|\n",
            "|       8.0|          4447|          8577|                       0.529|               464|\n",
            "|       7.0|          4512|          8507|                       0.552|               498|\n",
            "|       8.0|          4391|          5939|                        0.53|               580|\n",
            "|       7.5|          5126|         14186|                       0.525|               471|\n",
            "|       7.0|          4817|          6930|                       0.574|               525|\n",
            "|       7.0|          4207|          6580|                       0.545|               508|\n",
            "|       7.0|          4332|          8159|                       0.608|               566|\n",
            "|       7.0|          4318|         10340|                       0.586|               635|\n",
            "|       7.0|          4206|          8508|                       0.572|               603|\n",
            "|       7.0|          3718|          4725|                        0.54|               714|\n",
            "|       7.0|          4716|          5915|                       0.724|               865|\n",
            "|       8.5|          4341|          6010|                       0.677|               640|\n",
            "+----------+--------------+--------------+----------------------------+------------------+\n",
            "only showing top 20 rows\n",
            "\n"
          ],
          "name": "stdout"
        }
      ]
    },
    {
      "cell_type": "code",
      "metadata": {
        "id": "R4Xnjr7b1EJT",
        "colab_type": "code",
        "colab": {
          "base_uri": "https://localhost:8080/",
          "height": 34
        },
        "outputId": "d4949981-bd5b-4380-f8e8-50fdf9321f2f"
      },
      "source": [
        "# print rows and columns in spark like shape in pandas \n",
        "print((df_spark.count(), len(df_spark.columns)))"
      ],
      "execution_count": 61,
      "outputs": [
        {
          "output_type": "stream",
          "text": [
            "(48, 5)\n"
          ],
          "name": "stdout"
        }
      ]
    },
    {
      "cell_type": "code",
      "metadata": {
        "id": "oMGig4aSnHG-",
        "colab_type": "code",
        "colab": {
          "base_uri": "https://localhost:8080/",
          "height": 235
        },
        "outputId": "6cd20bf1-1b3c-4c89-f9e4-4a327145d364"
      },
      "source": [
        "# Calculate statistical varables for columns \n",
        "df_spark.describe().toPandas().transpose()"
      ],
      "execution_count": 62,
      "outputs": [
        {
          "output_type": "execute_result",
          "data": {
            "text/html": [
              "<div>\n",
              "<style scoped>\n",
              "    .dataframe tbody tr th:only-of-type {\n",
              "        vertical-align: middle;\n",
              "    }\n",
              "\n",
              "    .dataframe tbody tr th {\n",
              "        vertical-align: top;\n",
              "    }\n",
              "\n",
              "    .dataframe thead th {\n",
              "        text-align: right;\n",
              "    }\n",
              "</style>\n",
              "<table border=\"1\" class=\"dataframe\">\n",
              "  <thead>\n",
              "    <tr style=\"text-align: right;\">\n",
              "      <th></th>\n",
              "      <th>0</th>\n",
              "      <th>1</th>\n",
              "      <th>2</th>\n",
              "      <th>3</th>\n",
              "      <th>4</th>\n",
              "    </tr>\n",
              "  </thead>\n",
              "  <tbody>\n",
              "    <tr>\n",
              "      <th>summary</th>\n",
              "      <td>count</td>\n",
              "      <td>mean</td>\n",
              "      <td>stddev</td>\n",
              "      <td>min</td>\n",
              "      <td>max</td>\n",
              "    </tr>\n",
              "    <tr>\n",
              "      <th>Petrol_tax</th>\n",
              "      <td>48</td>\n",
              "      <td>7.668333333333333</td>\n",
              "      <td>0.9507697516051803</td>\n",
              "      <td>5.0</td>\n",
              "      <td>10.0</td>\n",
              "    </tr>\n",
              "    <tr>\n",
              "      <th>Average_income</th>\n",
              "      <td>48</td>\n",
              "      <td>4241.833333333333</td>\n",
              "      <td>573.6237677697417</td>\n",
              "      <td>3063</td>\n",
              "      <td>5342</td>\n",
              "    </tr>\n",
              "    <tr>\n",
              "      <th>Paved_Highways</th>\n",
              "      <td>48</td>\n",
              "      <td>5565.416666666667</td>\n",
              "      <td>3491.5071660788753</td>\n",
              "      <td>431</td>\n",
              "      <td>17782</td>\n",
              "    </tr>\n",
              "    <tr>\n",
              "      <th>Population_Driver_licence(%)</th>\n",
              "      <td>48</td>\n",
              "      <td>0.5703333333333334</td>\n",
              "      <td>0.05547026549972456</td>\n",
              "      <td>0.451</td>\n",
              "      <td>0.724</td>\n",
              "    </tr>\n",
              "    <tr>\n",
              "      <th>Petrol_Consumption</th>\n",
              "      <td>48</td>\n",
              "      <td>576.7708333333334</td>\n",
              "      <td>111.88581557530142</td>\n",
              "      <td>344</td>\n",
              "      <td>968</td>\n",
              "    </tr>\n",
              "  </tbody>\n",
              "</table>\n",
              "</div>"
            ],
            "text/plain": [
              "                                  0                   1  ...      3      4\n",
              "summary                       count                mean  ...    min    max\n",
              "Petrol_tax                       48   7.668333333333333  ...    5.0   10.0\n",
              "Average_income                   48   4241.833333333333  ...   3063   5342\n",
              "Paved_Highways                   48   5565.416666666667  ...    431  17782\n",
              "Population_Driver_licence(%)     48  0.5703333333333334  ...  0.451  0.724\n",
              "Petrol_Consumption               48   576.7708333333334  ...    344    968\n",
              "\n",
              "[6 rows x 5 columns]"
            ]
          },
          "metadata": {
            "tags": []
          },
          "execution_count": 62
        }
      ]
    },
    {
      "cell_type": "code",
      "metadata": {
        "id": "m0D3bU-0qxm7",
        "colab_type": "code",
        "colab": {
          "base_uri": "https://localhost:8080/",
          "height": 728
        },
        "outputId": "bb5dd604-ef54-4d75-fae2-3ca15ed45cbd"
      },
      "source": [
        "# Plot scatter matrix between the columns \n",
        "import pandas as pd\n",
        "from pandas.plotting import scatter_matrix\n",
        "numeric_features = [t[0] for t in df_spark.dtypes if t[1] == 'int' or t[1] == 'double']\n",
        "sampled_data = df_spark.select(numeric_features).sample(False, 0.8).toPandas()\n",
        "axs = scatter_matrix(sampled_data, figsize=(10, 10))\n",
        "n = len(sampled_data.columns)\n",
        "for i in range(n):\n",
        "    v = axs[i, 0]\n",
        "    v.yaxis.label.set_rotation(0)\n",
        "    v.yaxis.label.set_ha('right')\n",
        "    v.set_yticks(())\n",
        "    h = axs[n-1, i]\n",
        "    h.xaxis.label.set_rotation(90)\n",
        "    h.set_xticks(())"
      ],
      "execution_count": 63,
      "outputs": [
        {
          "output_type": "display_data",
          "data": {
            "image/png": "[encoded data removed]",
            "text/plain": [
              "<Figure size 720x720 with 25 Axes>"
            ]
          },
          "metadata": {
            "tags": []
          }
        }
      ]
    },
    {
      "cell_type": "code",
      "metadata": {
        "id": "xvW6Kk-qrS4P",
        "colab_type": "code",
        "colab": {
          "base_uri": "https://localhost:8080/",
          "height": 102
        },
        "outputId": "3a48ec34-9d29-4deb-d374-aa6e65b21627"
      },
      "source": [
        "# Correlation matrix between the input features and petrol consumptions\n",
        "import six\n",
        "for i in df_spark.columns:\n",
        "    if not( isinstance(df_spark.select(i).take(1)[0][0], six.string_types)):\n",
        "        print( \"Correlation to Petrol Consumption for \", i, df_spark.stat.corr('Petrol_Consumption',i))"
      ],
      "execution_count": 64,
      "outputs": [
        {
          "output_type": "stream",
          "text": [
            "Correlation to Petrol Consumption for  Petrol_tax -0.45128027518698666\n",
            "Correlation to Petrol Consumption for  Average_income -0.24486207498269938\n",
            "Correlation to Petrol Consumption for  Paved_Highways 0.01904193881958566\n",
            "Correlation to Petrol Consumption for  Population_Driver_licence(%) 0.6989654213627082\n",
            "Correlation to Petrol Consumption for  Petrol_Consumption 1.0\n"
          ],
          "name": "stdout"
        }
      ]
    },
    {
      "cell_type": "markdown",
      "metadata": {
        "id": "kaP4THCZrrwt",
        "colab_type": "text"
      },
      "source": [
        "# Prepare Data for Machine Learning Divide data into two columns only for spark one for features and second one for Label [Petrol Consumption]"
      ]
    },
    {
      "cell_type": "code",
      "metadata": {
        "id": "xWFXNYntr-kb",
        "colab_type": "code",
        "colab": {
          "base_uri": "https://localhost:8080/",
          "height": 170
        },
        "outputId": "cd43169f-97f1-413b-96fd-7edcdb750758"
      },
      "source": [
        "# Spark support only two columns during training one for features and second one is labels\n",
        "# Vector Assembler is used to assemble all the features used for training \n",
        "# Petrol consumption in the label where to train a regression model for estimating the \n",
        "# petrol consumption\n",
        "from pyspark.ml.feature import VectorAssembler\n",
        "vectorAssembler = VectorAssembler(inputCols = ['Petrol_tax', 'Average_income', 'Paved_Highways', 'Population_Driver_licence(%)'], outputCol = 'features')\n",
        "petrol_df = vectorAssembler.transform(df_spark)\n",
        "petrol_df = petrol_df.select(['features', 'Petrol_Consumption'])\n",
        "petrol_df.show(3)"
      ],
      "execution_count": 65,
      "outputs": [
        {
          "output_type": "stream",
          "text": [
            "+--------------------+------------------+\n",
            "|            features|Petrol_Consumption|\n",
            "+--------------------+------------------+\n",
            "|[9.0,3571.0,1976....|               541|\n",
            "|[9.0,4092.0,1250....|               524|\n",
            "|[9.0,3865.0,1586....|               561|\n",
            "+--------------------+------------------+\n",
            "only showing top 3 rows\n",
            "\n"
          ],
          "name": "stdout"
        }
      ]
    },
    {
      "cell_type": "code",
      "metadata": {
        "id": "-F5BL7-GNoMw",
        "colab_type": "code",
        "colab": {}
      },
      "source": [
        "# Splitting data into training and testing 80% training and 20% testing\n",
        "weights = [.8, .2]\n",
        "seed = 42 # seed=0L\n",
        "rawTrainData, rawValidationData = petrol_df.randomSplit(weights, seed)"
      ],
      "execution_count": 0,
      "outputs": []
    },
    {
      "cell_type": "markdown",
      "metadata": {
        "id": "cX0P8EWBtF7E",
        "colab_type": "text"
      },
      "source": [
        "Linear Regression"
      ]
    },
    {
      "cell_type": "code",
      "metadata": {
        "id": "dph2EPMIOsue",
        "colab_type": "code",
        "colab": {
          "base_uri": "https://localhost:8080/",
          "height": 51
        },
        "outputId": "856bc81a-929d-470d-d9dc-d3c62c4cd9e5"
      },
      "source": [
        "# training the linear regression madel\n",
        "from pyspark.ml.regression import LinearRegression\n",
        "lr = LinearRegression(featuresCol = 'features', labelCol='Petrol_Consumption', maxIter=10, regParam=0.3, elasticNetParam=0.8)\n",
        "lr_model = lr.fit(rawTrainData)\n",
        "print(\"Coefficients: \" + str(lr_model.coefficients))\n",
        "print(\"Intercept: \" + str(lr_model.intercept))"
      ],
      "execution_count": 67,
      "outputs": [
        {
          "output_type": "stream",
          "text": [
            "Coefficients: [-33.58623546148529,-0.07817081237526403,-0.00201926718463608,1381.4236830362772]\n",
            "Intercept: 390.2708065961913\n"
          ],
          "name": "stdout"
        }
      ]
    },
    {
      "cell_type": "code",
      "metadata": {
        "id": "_7maxuf-tN38",
        "colab_type": "code",
        "colab": {
          "base_uri": "https://localhost:8080/",
          "height": 51
        },
        "outputId": "e0132976-b524-44d8-836b-88b81a838244"
      },
      "source": [
        "# Summary of the training data \n",
        "trainingSummary = lr_model.summary\n",
        "print(\"RMSE: %f\" % trainingSummary.rootMeanSquaredError)\n",
        "print(\"r2: %f\" % trainingSummary.r2)"
      ],
      "execution_count": 68,
      "outputs": [
        {
          "output_type": "stream",
          "text": [
            "RMSE: 63.469792\n",
            "r2: 0.649963\n"
          ],
          "name": "stdout"
        }
      ]
    },
    {
      "cell_type": "code",
      "metadata": {
        "id": "rKFLYXeHtgFC",
        "colab_type": "code",
        "colab": {
          "base_uri": "https://localhost:8080/",
          "height": 187
        },
        "outputId": "805ffcca-4327-42e0-90fc-33875b1387d6"
      },
      "source": [
        "rawTrainData.describe().show()"
      ],
      "execution_count": 69,
      "outputs": [
        {
          "output_type": "stream",
          "text": [
            "+-------+------------------+\n",
            "|summary|Petrol_Consumption|\n",
            "+-------+------------------+\n",
            "|  count|                42|\n",
            "|   mean| 574.7380952380952|\n",
            "| stddev|108.57818572713207|\n",
            "|    min|               410|\n",
            "|    max|               968|\n",
            "+-------+------------------+\n",
            "\n"
          ],
          "name": "stdout"
        }
      ]
    },
    {
      "cell_type": "code",
      "metadata": {
        "id": "SOC2gBtHt3LR",
        "colab_type": "code",
        "colab": {
          "base_uri": "https://localhost:8080/",
          "height": 221
        },
        "outputId": "397d43a4-b2cf-44df-a4c2-44b7e9215ccd"
      },
      "source": [
        "# Testing the trained linear regression model\n",
        "lr_predictions = lr_model.transform(rawValidationData)\n",
        "lr_predictions.select(\"prediction\",\"Petrol_Consumption\",\"features\").show(5)\n",
        "from pyspark.ml.evaluation import RegressionEvaluator\n",
        "lr_evaluator = RegressionEvaluator(predictionCol=\"prediction\", \\\n",
        "                 labelCol=\"Petrol_Consumption\",metricName=\"r2\")\n",
        "print(\"R Squared (R2) on test data = %g\" % lr_evaluator.evaluate(lr_predictions))"
      ],
      "execution_count": 70,
      "outputs": [
        {
          "output_type": "stream",
          "text": [
            "+-----------------+------------------+--------------------+\n",
            "|       prediction|Petrol_Consumption|            features|\n",
            "+-----------------+------------------+--------------------+\n",
            "|704.7609692316238|               782|[6.0,5215.0,2302....|\n",
            "|725.1645061142436|               644|[6.58,3802.0,7834...|\n",
            "|589.9791423011592|               554|[7.0,3333.0,6594....|\n",
            "|606.2606460995255|               635|[7.0,4318.0,10340...|\n",
            "|662.7890592194274|               587|[7.0,4449.0,4639....|\n",
            "+-----------------+------------------+--------------------+\n",
            "only showing top 5 rows\n",
            "\n",
            "R Squared (R2) on test data = 0.78816\n"
          ],
          "name": "stdout"
        }
      ]
    },
    {
      "cell_type": "code",
      "metadata": {
        "id": "DHNuykzzuYxi",
        "colab_type": "code",
        "colab": {
          "base_uri": "https://localhost:8080/",
          "height": 34
        },
        "outputId": "b1d4c4d9-8456-4b79-b227-389a479491c5"
      },
      "source": [
        "# Calculate the RMSE between the prediction and petolconsumption for test dataset\n",
        "test_result = lr_model.evaluate(rawValidationData)\n",
        "print(\"Root Mean Squared Error (RMSE) on test data = %g\" % test_result.rootMeanSquaredError)"
      ],
      "execution_count": 71,
      "outputs": [
        {
          "output_type": "stream",
          "text": [
            "Root Mean Squared Error (RMSE) on test data = 60.4854\n"
          ],
          "name": "stdout"
        }
      ]
    },
    {
      "cell_type": "markdown",
      "metadata": {
        "id": "2gHDzgbJu33D",
        "colab_type": "text"
      },
      "source": [
        "Decision Tree Regression"
      ]
    },
    {
      "cell_type": "code",
      "metadata": {
        "id": "J1wfe2eCulJR",
        "colab_type": "code",
        "colab": {
          "base_uri": "https://localhost:8080/",
          "height": 34
        },
        "outputId": "3f48c3fd-a923-418e-89b2-e64e9ff80330"
      },
      "source": [
        "# Training and testing the decision tree model and calculating the RMSE error\n",
        "from pyspark.ml.regression import DecisionTreeRegressor\n",
        "dt = DecisionTreeRegressor(featuresCol = 'features', labelCol='Petrol_Consumption')\n",
        "dt_model = dt.fit(rawTrainData)\n",
        "dt_predictions = dt_model.transform(rawValidationData)\n",
        "dt_evaluator = RegressionEvaluator(\n",
        "    labelCol=\"Petrol_Consumption\", predictionCol=\"prediction\", metricName=\"rmse\")\n",
        "rmse = dt_evaluator.evaluate(dt_predictions)\n",
        "print(\"Root Mean Squared Error (RMSE) on test data = %g\" % rmse)"
      ],
      "execution_count": 72,
      "outputs": [
        {
          "output_type": "stream",
          "text": [
            "Root Mean Squared Error (RMSE) on test data = 85.5821\n"
          ],
          "name": "stdout"
        }
      ]
    },
    {
      "cell_type": "markdown",
      "metadata": {
        "id": "LzkcHQaCw9W5",
        "colab_type": "text"
      },
      "source": [
        "Gradient Boosting tree Regression"
      ]
    },
    {
      "cell_type": "code",
      "metadata": {
        "id": "HUnM8c_xvQdB",
        "colab_type": "code",
        "colab": {
          "base_uri": "https://localhost:8080/",
          "height": 204
        },
        "outputId": "8473b218-465f-4ab2-abcb-283ddde02311"
      },
      "source": [
        "# Training and testing the Gradient Boosting model\n",
        "from pyspark.ml.regression import GBTRegressor\n",
        "gbt = GBTRegressor(featuresCol = 'features', labelCol='Petrol_Consumption')\n",
        "gbt_model = gbt.fit(rawTrainData)\n",
        "gbt_predictions = gbt_model.transform(rawValidationData)\n",
        "gbt_predictions.select('prediction', 'Petrol_Consumption', 'features').show(5)"
      ],
      "execution_count": 73,
      "outputs": [
        {
          "output_type": "stream",
          "text": [
            "+-----------------+------------------+--------------------+\n",
            "|       prediction|Petrol_Consumption|            features|\n",
            "+-----------------+------------------+--------------------+\n",
            "|866.4075488565418|               782|[6.0,5215.0,2302....|\n",
            "|552.7948437272926|               644|[6.58,3802.0,7834...|\n",
            "|553.6260988382546|               554|[7.0,3333.0,6594....|\n",
            "|647.7452567085594|               635|[7.0,4318.0,10340...|\n",
            "|648.5521705228448|               587|[7.0,4449.0,4639....|\n",
            "+-----------------+------------------+--------------------+\n",
            "only showing top 5 rows\n",
            "\n"
          ],
          "name": "stdout"
        }
      ]
    },
    {
      "cell_type": "code",
      "metadata": {
        "id": "63gnthgnxT9m",
        "colab_type": "code",
        "colab": {
          "base_uri": "https://localhost:8080/",
          "height": 34
        },
        "outputId": "8675e368-b43f-4ecf-e831-2e9448316cf7"
      },
      "source": [
        "# calculting the RMSE for gradient boosting model \n",
        "gbt_evaluator = RegressionEvaluator(\n",
        "    labelCol=\"Petrol_Consumption\", predictionCol=\"prediction\", metricName=\"rmse\")\n",
        "rmse = gbt_evaluator.evaluate(gbt_predictions)\n",
        "print(\"Root Mean Squared Error (RMSE) on test data = %g\" % rmse)"
      ],
      "execution_count": 74,
      "outputs": [
        {
          "output_type": "stream",
          "text": [
            "Root Mean Squared Error (RMSE) on test data = 76.0806\n"
          ],
          "name": "stdout"
        }
      ]
    },
    {
      "cell_type": "markdown",
      "metadata": {
        "id": "HzSaCMJ7x5W3",
        "colab_type": "text"
      },
      "source": [
        "**Random Forest **"
      ]
    },
    {
      "cell_type": "code",
      "metadata": {
        "id": "C5mbhBThxh_F",
        "colab_type": "code",
        "colab": {
          "base_uri": "https://localhost:8080/",
          "height": 204
        },
        "outputId": "148cc5a9-459c-4ee7-b535-6407bae3be19"
      },
      "source": [
        "# Training and testing the Random Forest model\n",
        "from pyspark.ml.regression import RandomForestRegressor\n",
        "rf = RandomForestRegressor(featuresCol = 'features', labelCol='Petrol_Consumption')\n",
        "rf_model = rf.fit(rawTrainData)\n",
        "rf_predictions = rf_model.transform(rawValidationData)\n",
        "rf_predictions.select('prediction', 'Petrol_Consumption', 'features').show(5)"
      ],
      "execution_count": 75,
      "outputs": [
        {
          "output_type": "stream",
          "text": [
            "+-----------------+------------------+--------------------+\n",
            "|       prediction|Petrol_Consumption|            features|\n",
            "+-----------------+------------------+--------------------+\n",
            "|            802.2|               782|[6.0,5215.0,2302....|\n",
            "|619.6575505050504|               644|[6.58,3802.0,7834...|\n",
            "|543.6544047619047|               554|[7.0,3333.0,6594....|\n",
            "|590.9553571428571|               635|[7.0,4318.0,10340...|\n",
            "|672.0864393939394|               587|[7.0,4449.0,4639....|\n",
            "+-----------------+------------------+--------------------+\n",
            "only showing top 5 rows\n",
            "\n"
          ],
          "name": "stdout"
        }
      ]
    },
    {
      "cell_type": "code",
      "metadata": {
        "id": "jHFIM5DJx1WC",
        "colab_type": "code",
        "colab": {
          "base_uri": "https://localhost:8080/",
          "height": 34
        },
        "outputId": "5d2e777b-6dc2-427c-db6f-d6135c3ac686"
      },
      "source": [
        "# calculting the RMSE for Random Forest model \n",
        "rf_evaluator = RegressionEvaluator(\n",
        "    labelCol=\"Petrol_Consumption\", predictionCol=\"prediction\", metricName=\"rmse\")\n",
        "rmse = rf_evaluator.evaluate(rf_predictions)\n",
        "print(\"Root Mean Squared Error (RMSE) on test data = %g\" % rmse)"
      ],
      "execution_count": 76,
      "outputs": [
        {
          "output_type": "stream",
          "text": [
            "Root Mean Squared Error (RMSE) on test data = 76.7769\n"
          ],
          "name": "stdout"
        }
      ]
    },
    {
      "cell_type": "code",
      "metadata": {
        "id": "D39e4zCfzfxT",
        "colab_type": "code",
        "colab": {}
      },
      "source": [
        ""
      ],
      "execution_count": 0,
      "outputs": []
    }
  ]
}